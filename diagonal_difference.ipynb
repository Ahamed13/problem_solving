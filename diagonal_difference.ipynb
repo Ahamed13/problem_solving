{
 "cells": [
  {
   "cell_type": "code",
   "execution_count": null,
   "metadata": {},
   "outputs": [],
   "source": [
    "import math\n",
    "n = int(input())\n",
    "l = []\n",
    "c = 2\n",
    "c1 = 2\n",
    "u2 = []\n",
    "z2 = []\n",
    "g = []\n",
    "h = []\n",
    "for _ in range(n):\n",
    "    k = input().split()\n",
    "    for i in k:\n",
    "        l.append(int(i))\n",
    "d = n+1\n",
    "d1 = 0\n",
    "for f in range(n-2):\n",
    "    g.append((d*c))\n",
    "    c = c +1\n",
    "g.append(d1)\n",
    "g.append(d)\n",
    "d2 = n-1\n",
    "for v in range(n-1):\n",
    "    h.append((d2*c1))\n",
    "    c1 = c1 + 1\n",
    "h.append(d2)\n",
    "\n",
    "\n",
    "for u in g:\n",
    "    u1 = l[u]\n",
    "    u2.append(u1)\n",
    "e = sum(u2)\n",
    "for x in h:\n",
    "    z1 = l[x]\n",
    "    z2.append(z1)\n",
    "e1 = sum(z2)\n",
    "print(abs(e-e1))"
   ]
  }
 ],
 "metadata": {
  "kernelspec": {
   "display_name": "Python 3",
   "language": "python",
   "name": "python3"
  },
  "language_info": {
   "codemirror_mode": {
    "name": "ipython",
    "version": 3
   },
   "file_extension": ".py",
   "mimetype": "text/x-python",
   "name": "python",
   "nbconvert_exporter": "python",
   "pygments_lexer": "ipython3",
   "version": "3.8.5"
  }
 },
 "nbformat": 4,
 "nbformat_minor": 4
}
